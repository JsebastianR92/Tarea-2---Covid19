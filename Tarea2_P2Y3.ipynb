{
 "cells": [
  {
   "cell_type": "markdown",
   "metadata": {},
   "source": [
    "# Tarea 2 - Regresion Polinomial & Feature engineering\n",
    "\n",
    "### Parte 1 - Modelo exponencial de covid-19 usando feature-eng\n",
    "\n",
    "Usando el ejemplo de covid-19 en el notebook de feature-eng (https://colab.research.google.com/drive/1sJV2HG7tQgCGKES3-dIclzHQJ9qAWB3b?usp=sharing) crear un modelo de covid-19 para Guatemala.\n",
    "\n",
    "* Convertir la fecha a un entero \"número de día\", por ejemplo si se usan datos desde el 22 de abril, este es el día 0, el 23 es el día 1.\n",
    "* Aplicar regresión lineal sobre la variable \"Confirmed\" transformada.\n",
    "* Una vez entrenado el modelo usarlo para aproximar la cantidad de casos confirmados para el 30 de mayo. Se debe reportar la cantidad de casos, no la cantidad transformada obtenida."
   ]
  },
  {
   "cell_type": "code",
   "execution_count": 34,
   "metadata": {},
   "outputs": [],
   "source": [
    "import numpy as np\n",
    "import pandas as pd\n",
    "from matplotlib import pyplot as plt\n",
    "import tensorflow as tf\n",
    "#from google.colab import drive \n",
    "from scipy.stats import norm\n",
    "from datetime import datetime as dt\n",
    "#from pandas_datareader import data\n",
    "from sklearn import linear_model\n",
    "from sklearn.model_selection import train_test_split\n",
    "from sklearn.metrics import mean_squared_error\n",
    "%reload_ext tensorboard"
   ]
  },
  {
   "cell_type": "markdown",
   "metadata": {},
   "source": [
    "### Parte 2 - Modelo polinomial de calidad de vinos"
   ]
  },
  {
   "cell_type": "markdown",
   "metadata": {},
   "source": [
    "Es permitido utilizar [sklearn.preprocessing.polynomialfeatures](https://scikit-learn.org/stable/modules/generated/sklearn.preprocessing.PolynomialFeatures.html)\n",
    "\n",
    "\n",
    "### Instrucciones\n",
    "\n",
    "1. Seleccionar y transformar(generando las combinaciones polinomiales para un polinomio de grado dos o tres a elección) las features que considere que son las mejores para predecir la calidad del vino, utilizar como minimo 2 features. Para seleccionar las features, hacer un analisis exploratorio por ejemplo(pero no limitado a ):  graficando y viendo la forma en que se comportan los datos.\n",
    "\n",
    " Por ejemplo, se tienen las features \"a\" y \"b\" y seleccionamos polinomio de grado 2, hacemos feature engineering para obtener :\n",
    " \n",
    " $[a,b,a^{2},b^{2},ab]$\n",
    " \n",
    " No olvidar el \"bias\" (parámetro multiplicado por 1) ,con lo cual el dataset puede quedar con las columnas:\n",
    " \n",
    " $[1,a,b,a^{2},b^{2},ab]$\n",
    "2. Una vez transformada la data aplicar regresion lineal con las features polinomiales usando Tensorflow.\n",
    "\n",
    "Requisitos adicionales:\n",
    "* Se debe agregar al notebook un screenshot del grafo de tensorboard, simplificando(usando  names , y name_scope como visto en clase).\n",
    "\n",
    "* Se debe generar un directorio de logs de tensorboard para cada corrida/experimento , con cada directorio identificando facilmente la configuración del experimento como visto en clase, por ejemplo para un experimento con learning rate = 0.1 , y polinomio grado 2  crear un directorio: lr=0.1_polinomio_grado=2. (Agregar al notebook un screenshot de estas gráficas)\n",
    "\n",
    "* Concluir en markdown cual es el mejor modelo para este caso basado en la comparativa entre curvas de costo/error en tensorboard."
   ]
  },
  {
   "cell_type": "code",
   "execution_count": 35,
   "metadata": {},
   "outputs": [],
   "source": [
    "data = pd.read_csv('winequality-red.csv')"
   ]
  },
  {
   "cell_type": "code",
   "execution_count": 82,
   "metadata": {},
   "outputs": [
    {
     "data": {
      "text/html": [
       "<div>\n",
       "<style scoped>\n",
       "    .dataframe tbody tr th:only-of-type {\n",
       "        vertical-align: middle;\n",
       "    }\n",
       "\n",
       "    .dataframe tbody tr th {\n",
       "        vertical-align: top;\n",
       "    }\n",
       "\n",
       "    .dataframe thead th {\n",
       "        text-align: right;\n",
       "    }\n",
       "</style>\n",
       "<table border=\"1\" class=\"dataframe\">\n",
       "  <thead>\n",
       "    <tr style=\"text-align: right;\">\n",
       "      <th></th>\n",
       "      <th>volatile acidity</th>\n",
       "      <th>alcohol</th>\n",
       "    </tr>\n",
       "  </thead>\n",
       "  <tbody>\n",
       "    <tr>\n",
       "      <td>0</td>\n",
       "      <td>0.70</td>\n",
       "      <td>9.4</td>\n",
       "    </tr>\n",
       "    <tr>\n",
       "      <td>1</td>\n",
       "      <td>0.88</td>\n",
       "      <td>9.8</td>\n",
       "    </tr>\n",
       "    <tr>\n",
       "      <td>2</td>\n",
       "      <td>0.76</td>\n",
       "      <td>9.8</td>\n",
       "    </tr>\n",
       "    <tr>\n",
       "      <td>3</td>\n",
       "      <td>0.28</td>\n",
       "      <td>9.8</td>\n",
       "    </tr>\n",
       "    <tr>\n",
       "      <td>4</td>\n",
       "      <td>0.70</td>\n",
       "      <td>9.4</td>\n",
       "    </tr>\n",
       "  </tbody>\n",
       "</table>\n",
       "</div>"
      ],
      "text/plain": [
       "   volatile acidity  alcohol\n",
       "0              0.70      9.4\n",
       "1              0.88      9.8\n",
       "2              0.76      9.8\n",
       "3              0.28      9.8\n",
       "4              0.70      9.4"
      ]
     },
     "execution_count": 82,
     "metadata": {},
     "output_type": "execute_result"
    }
   ],
   "source": [
    "#data.corr()\n",
    "\n",
    "xdatos = data[['volatile acidity', 'alcohol']]\n",
    "ydatos = data[['quality']]\n",
    "\n",
    "xdatos.head()\n"
   ]
  },
  {
   "cell_type": "code",
   "execution_count": 73,
   "metadata": {},
   "outputs": [
    {
     "data": {
      "image/png": "[encoded data removed]",
      "text/plain": [
       "<Figure size 1120x640 with 1 Axes>"
      ]
     },
     "metadata": {},
     "output_type": "display_data"
    }
   ],
   "source": [
    "plt.scatter(xdatos['volatile acidity'], ydatos)"
   ]
  },
  {
   "cell_type": "code",
   "execution_count": 83,
   "metadata": {},
   "outputs": [
    {
     "data": {
      "text/plain": [
       "<matplotlib.collections.PathCollection at 0x24334d22708>"
      ]
     },
     "execution_count": 83,
     "metadata": {},
     "output_type": "execute_result"
    },
    {
     "data": {
      "image/png": "[encoded data removed]",
      "text/plain": [
       "<Figure size 432x288 with 1 Axes>"
      ]
     },
     "metadata": {
      "needs_background": "light"
     },
     "output_type": "display_data"
    }
   ],
   "source": [
    "plt.scatter(xdatos['alcohol'], ydatos)"
   ]
  },
  {
   "cell_type": "code",
   "execution_count": 75,
   "metadata": {},
   "outputs": [
    {
     "data": {
      "text/html": [
       "<div>\n",
       "<style scoped>\n",
       "    .dataframe tbody tr th:only-of-type {\n",
       "        vertical-align: middle;\n",
       "    }\n",
       "\n",
       "    .dataframe tbody tr th {\n",
       "        vertical-align: top;\n",
       "    }\n",
       "\n",
       "    .dataframe thead th {\n",
       "        text-align: right;\n",
       "    }\n",
       "</style>\n",
       "<table border=\"1\" class=\"dataframe\">\n",
       "  <thead>\n",
       "    <tr style=\"text-align: right;\">\n",
       "      <th></th>\n",
       "      <th></th>\n",
       "      <th>a</th>\n",
       "      <th>b</th>\n",
       "      <th>ab</th>\n",
       "      <th>a^2</th>\n",
       "      <th>b^2</th>\n",
       "    </tr>\n",
       "  </thead>\n",
       "  <tbody>\n",
       "    <tr>\n",
       "      <td>0</td>\n",
       "      <td>1</td>\n",
       "      <td>0.70</td>\n",
       "      <td>9.4</td>\n",
       "      <td>6.580</td>\n",
       "      <td>0.4900</td>\n",
       "      <td>88.36</td>\n",
       "    </tr>\n",
       "    <tr>\n",
       "      <td>1</td>\n",
       "      <td>1</td>\n",
       "      <td>0.88</td>\n",
       "      <td>9.8</td>\n",
       "      <td>8.624</td>\n",
       "      <td>0.7744</td>\n",
       "      <td>96.04</td>\n",
       "    </tr>\n",
       "    <tr>\n",
       "      <td>2</td>\n",
       "      <td>1</td>\n",
       "      <td>0.76</td>\n",
       "      <td>9.8</td>\n",
       "      <td>7.448</td>\n",
       "      <td>0.5776</td>\n",
       "      <td>96.04</td>\n",
       "    </tr>\n",
       "    <tr>\n",
       "      <td>3</td>\n",
       "      <td>1</td>\n",
       "      <td>0.28</td>\n",
       "      <td>9.8</td>\n",
       "      <td>2.744</td>\n",
       "      <td>0.0784</td>\n",
       "      <td>96.04</td>\n",
       "    </tr>\n",
       "    <tr>\n",
       "      <td>4</td>\n",
       "      <td>1</td>\n",
       "      <td>0.70</td>\n",
       "      <td>9.4</td>\n",
       "      <td>6.580</td>\n",
       "      <td>0.4900</td>\n",
       "      <td>88.36</td>\n",
       "    </tr>\n",
       "  </tbody>\n",
       "</table>\n",
       "</div>"
      ],
      "text/plain": [
       "         a    b     ab     a^2    b^2\n",
       "0  1  0.70  9.4  6.580  0.4900  88.36\n",
       "1  1  0.88  9.8  8.624  0.7744  96.04\n",
       "2  1  0.76  9.8  7.448  0.5776  96.04\n",
       "3  1  0.28  9.8  2.744  0.0784  96.04\n",
       "4  1  0.70  9.4  6.580  0.4900  88.36"
      ]
     },
     "execution_count": 75,
     "metadata": {},
     "output_type": "execute_result"
    }
   ],
   "source": [
    "xent = xdatos.copy()\n",
    "yent = ydatos.copy()\n",
    "xent.columns=['a', 'b']\n",
    "xent['ab'] = xent['a']*xent['b']\n",
    "xent['a^2'] = xent['a']*xent['a']\n",
    "xent['b^2'] = xent['b']*xent['b']\n",
    "xent.insert(0,'',1)\n",
    "\n",
    "pol = xent.shape[1]"
   ]
  },
  {
   "cell_type": "code",
   "execution_count": 77,
   "metadata": {},
   "outputs": [],
   "source": [
    "tf.reset_default_graph()\n",
    "g = tf.Graph()\n",
    "with g.as_default():\n",
    "    xplace = tf.placeholder(tf.float32, shape = (None, pol), name = \"X\")\n",
    "    yplace = tf.placeholder(tf.float32, shape = (None, 1), name = \"Y\")\n",
    "\n",
    "    lr = tf.placeholder(tf.float32, name = \"lr\")\n",
    "\n",
    "    W = tf.Variable(tf.zeros([pol, 1], tf.float32), name = \"W\")\n",
    "\n",
    "    with tf.name_scope(\"Hipotesis\"):\n",
    "        Yhat = tf.matmul(xplace, W, name = \"Diferencia_Y\") \n",
    "        \n",
    "    with tf.name_scope(\"Costo\"):\n",
    "        cost = tf.divide( tf.reduce_mean(tf.pow(Yhat-yplace, 2)), 2., name=\"fCosto\")\n",
    "\n",
    "    with tf.name_scope(\"Gradient_Descent\"):\n",
    "        optimizer = tf.train.GradientDescentOptimizer(lr).minimize(cost)\n",
    "        costSummary = tf.summary.scalar(name='funcion de costo', tensor = cost)\n",
    "    init = tf.global_variables_initializer()\n"
   ]
  },
  {
   "cell_type": "code",
   "execution_count": 80,
   "metadata": {},
   "outputs": [],
   "source": [
    "logs_dir = r\"C:\\Users\\Sebastián\\Desktop\\regresion_polinomial\\logs\"\n",
    "\n",
    "def entrenamiento(x, y, training_epochs, learning_rate,n){\n",
    "    with tf.Session(graph = g) as sess: \n",
    "        writer = tf.summary.FileWriter(logs_dir, sess.graph)        \n",
    "        sess.run(init) \n",
    "\n",
    "        for epoch in range(training_epochs): \n",
    "            _, summary = sess.run([optimizer, costSummary], feed_dict = {xplace: xent, yplace: yent, lr : learning_rate})\n",
    "            writer.add_summary(summary, epoch+1)\n",
    "            if (epoch + 1) % n == 0: \n",
    "                c, weights = sess.run([cost, W], feed_dict = {xplace : x, yplace : y}) \n",
    "                print(\"E:\", (epoch + 1), \"\\tGrado_de_Polinomio=\", pol,\"\\tValoro_Costo=\", c, \"\\tMuestra_W=\", weights[:3,0]) \n",
    "        writer.close()\n",
    "        \n",
    "        finalCost = sess.run(cost, feed_dict ={xplace: xent, yplace: yent}) \n",
    "        weights = sess.run(W)        \n",
    "    return (weights)\n",
    "    \n",
    "    \n",
    "}"
   ]
  },
  {
   "cell_type": "code",
   "execution_count": 81,
   "metadata": {},
   "outputs": [
    {
     "name": "stdout",
     "output_type": "stream",
     "text": [
      "E: 30 \tGrado_de_Polinomio= 6 \tValor_del_Costo= 0.57396644 \tMuestra_para_W= [0.00094795 0.00045542 0.00738845]\n",
      "E: 60 \tGrado_de_Polinomio= 6 \tValor_del_Costo= 0.57085836 \tMuestra_para_W= [0.00145953 0.00068624 0.01014984]\n",
      "E: 90 \tGrado_de_Polinomio= 6 \tValor_del_Costo= 0.56779873 \tMuestra_para_W= [0.00196827 0.00091401 0.01289599]\n",
      "E: 120 \tGrado_de_Polinomio= 6 \tValor_del_Costo= 0.56478673 \tMuestra_para_W= [0.0024742  0.00113877 0.01562705]\n",
      "E: 150 \tGrado_de_Polinomio= 6 \tValor_del_Costo= 0.5618211 \tMuestra_para_W= [0.00297736 0.00136056 0.01834316]\n",
      "E: 180 \tGrado_de_Polinomio= 6 \tValor_del_Costo= 0.5589008 \tMuestra_para_W= [0.00347775 0.00157942 0.02104448]\n",
      "E: 210 \tGrado_de_Polinomio= 6 \tValor_del_Costo= 0.55602473 \tMuestra_para_W= [0.00397542 0.0017954  0.02373113]\n",
      "E: 240 \tGrado_de_Polinomio= 6 \tValor_del_Costo= 0.55319184 \tMuestra_para_W= [0.00447039 0.00200854 0.02640326]\n",
      "E: 270 \tGrado_de_Polinomio= 6 \tValor_del_Costo= 0.5504011 \tMuestra_para_W= [0.00496269 0.00221887 0.02906103]\n",
      "E: 300 \tGrado_de_Polinomio= 6 \tValor_del_Costo= 0.5476515 \tMuestra_para_W= [0.00545233 0.00242645 0.03170455]\n"
     ]
    }
   ],
   "source": [
    "weights = entrenarModeloLineal(trainX, trainY, 300, 0.0001, 30)"
   ]
  },
  {
   "cell_type": "code",
   "execution_count": 55,
   "metadata": {},
   "outputs": [
    {
     "data": {
      "text/html": [
       "<div>\n",
       "<style scoped>\n",
       "    .dataframe tbody tr th:only-of-type {\n",
       "        vertical-align: middle;\n",
       "    }\n",
       "\n",
       "    .dataframe tbody tr th {\n",
       "        vertical-align: top;\n",
       "    }\n",
       "\n",
       "    .dataframe thead th {\n",
       "        text-align: right;\n",
       "    }\n",
       "</style>\n",
       "<table border=\"1\" class=\"dataframe\">\n",
       "  <thead>\n",
       "    <tr style=\"text-align: right;\">\n",
       "      <th></th>\n",
       "      <th></th>\n",
       "      <th>a</th>\n",
       "      <th>b</th>\n",
       "      <th>ab</th>\n",
       "      <th>a^2</th>\n",
       "      <th>b^2</th>\n",
       "      <th>ab^2</th>\n",
       "      <th>ba^2</th>\n",
       "      <th>a^3</th>\n",
       "      <th>b^3</th>\n",
       "    </tr>\n",
       "  </thead>\n",
       "  <tbody>\n",
       "    <tr>\n",
       "      <td>0</td>\n",
       "      <td>1</td>\n",
       "      <td>0.70</td>\n",
       "      <td>9.4</td>\n",
       "      <td>6.580</td>\n",
       "      <td>0.4900</td>\n",
       "      <td>88.36</td>\n",
       "      <td>61.8520</td>\n",
       "      <td>4.60600</td>\n",
       "      <td>0.343000</td>\n",
       "      <td>830.584</td>\n",
       "    </tr>\n",
       "    <tr>\n",
       "      <td>1</td>\n",
       "      <td>1</td>\n",
       "      <td>0.88</td>\n",
       "      <td>9.8</td>\n",
       "      <td>8.624</td>\n",
       "      <td>0.7744</td>\n",
       "      <td>96.04</td>\n",
       "      <td>84.5152</td>\n",
       "      <td>7.58912</td>\n",
       "      <td>0.681472</td>\n",
       "      <td>941.192</td>\n",
       "    </tr>\n",
       "    <tr>\n",
       "      <td>2</td>\n",
       "      <td>1</td>\n",
       "      <td>0.76</td>\n",
       "      <td>9.8</td>\n",
       "      <td>7.448</td>\n",
       "      <td>0.5776</td>\n",
       "      <td>96.04</td>\n",
       "      <td>72.9904</td>\n",
       "      <td>5.66048</td>\n",
       "      <td>0.438976</td>\n",
       "      <td>941.192</td>\n",
       "    </tr>\n",
       "    <tr>\n",
       "      <td>3</td>\n",
       "      <td>1</td>\n",
       "      <td>0.28</td>\n",
       "      <td>9.8</td>\n",
       "      <td>2.744</td>\n",
       "      <td>0.0784</td>\n",
       "      <td>96.04</td>\n",
       "      <td>26.8912</td>\n",
       "      <td>0.76832</td>\n",
       "      <td>0.021952</td>\n",
       "      <td>941.192</td>\n",
       "    </tr>\n",
       "    <tr>\n",
       "      <td>4</td>\n",
       "      <td>1</td>\n",
       "      <td>0.70</td>\n",
       "      <td>9.4</td>\n",
       "      <td>6.580</td>\n",
       "      <td>0.4900</td>\n",
       "      <td>88.36</td>\n",
       "      <td>61.8520</td>\n",
       "      <td>4.60600</td>\n",
       "      <td>0.343000</td>\n",
       "      <td>830.584</td>\n",
       "    </tr>\n",
       "  </tbody>\n",
       "</table>\n",
       "</div>"
      ],
      "text/plain": [
       "         a    b     ab     a^2    b^2     ab^2     ba^2       a^3      b^3\n",
       "0  1  0.70  9.4  6.580  0.4900  88.36  61.8520  4.60600  0.343000  830.584\n",
       "1  1  0.88  9.8  8.624  0.7744  96.04  84.5152  7.58912  0.681472  941.192\n",
       "2  1  0.76  9.8  7.448  0.5776  96.04  72.9904  5.66048  0.438976  941.192\n",
       "3  1  0.28  9.8  2.744  0.0784  96.04  26.8912  0.76832  0.021952  941.192\n",
       "4  1  0.70  9.4  6.580  0.4900  88.36  61.8520  4.60600  0.343000  830.584"
      ]
     },
     "execution_count": 55,
     "metadata": {},
     "output_type": "execute_result"
    }
   ],
   "source": [
    "trainX3 = trainX.copy()\n",
    "# Agregamos las características a X\n",
    "trainX3['ab^2'] = trainX['a'] * trainX['b^2']\n",
    "trainX3['ba^2'] = trainX['b'] * trainX['a^2']\n",
    "trainX3['a^3'] = trainX['a'] ** 3\n",
    "trainX3['b^3'] = trainX['b'] ** 3\n",
    "\n",
    "# Obtenemos el número de parámetros a estimar: K\n",
    "K = trainX3.shape[1]\n",
    "\n",
    "trainX3.head()"
   ]
  },
  {
   "cell_type": "code",
   "execution_count": 84,
   "metadata": {
    "scrolled": false
   },
   "outputs": [
    {
     "data": {
      "text/plain": [
       "Reusing TensorBoard on port 6006 (pid 1856), started 0:18:11 ago. (Use '!kill 1856' to kill it.)"
      ]
     },
     "metadata": {},
     "output_type": "display_data"
    },
    {
     "data": {
      "text/html": [
       "\n",
       "      <iframe id=\"tensorboard-frame-1e3273927269b5c1\" width=\"100%\" height=\"800\" frameborder=\"0\">\n",
       "      </iframe>\n",
       "      <script>\n",
       "        (function() {\n",
       "          const frame = document.getElementById(\"tensorboard-frame-1e3273927269b5c1\");\n",
       "          const url = new URL(\"/\", window.location);\n",
       "          url.port = 6006;\n",
       "          frame.src = url;\n",
       "        })();\n",
       "      </script>\n",
       "  "
      ],
      "text/plain": [
       "<IPython.core.display.HTML object>"
      ]
     },
     "metadata": {},
     "output_type": "display_data"
    }
   ],
   "source": [
    "%tensorboard --logdir=\"C:\\Users\\Sebastián\\Desktop\\regresion_polinomial\\logs\""
   ]
  },
  {
   "cell_type": "code",
   "execution_count": 57,
   "metadata": {
    "scrolled": true
   },
   "outputs": [
    {
     "data": {
      "text/plain": [
       "Reusing TensorBoard on port 6006 (pid 1856), started 0:05:29 ago. (Use '!kill 1856' to kill it.)"
      ]
     },
     "metadata": {},
     "output_type": "display_data"
    },
    {
     "data": {
      "text/html": [
       "\n",
       "      <iframe id=\"tensorboard-frame-b023ad182f782166\" width=\"100%\" height=\"800\" frameborder=\"0\">\n",
       "      </iframe>\n",
       "      <script>\n",
       "        (function() {\n",
       "          const frame = document.getElementById(\"tensorboard-frame-b023ad182f782166\");\n",
       "          const url = new URL(\"/\", window.location);\n",
       "          url.port = 6006;\n",
       "          frame.src = url;\n",
       "        })();\n",
       "      </script>\n",
       "  "
      ],
      "text/plain": [
       "<IPython.core.display.HTML object>"
      ]
     },
     "metadata": {},
     "output_type": "display_data"
    }
   ],
   "source": [
    "%tensorboard --logdir=\"C:\\Users\\Sebastián\\Desktop\\regresion_polinomial\\logs\""
   ]
  },
  {
   "cell_type": "markdown",
   "metadata": {},
   "source": [
    "# Conclusión\n",
    "\n",
    "A pesar de que se eligiò una variable como alcohol como la más representativa para trabajar el modelo, es perfectamente posible trabajarlo con más de 1 variable a la vez y ajustar un polinoomio con un grado K cualquiera que nos permita hacer la relaciòn entre ellas. \n",
    "\n",
    "Podemos trabajar con comparativas de un polinomio de grado perfecto en comparación de uno de mayor grado para validar que el de grado perfecto no siempre es la mejor alternativa. \n",
    "\n",
    "Se cumple la hipotesis planteada y se verifica la relación con la variable elegida."
   ]
  },
  {
   "cell_type": "markdown",
   "metadata": {},
   "source": [
    "### Red Wine Quality Data\n",
    "\n",
    "Se aplicará regresión para crear un modelo de la calidad de vino en función de características del mismo, siendo 1 el peor vino y 10 el mejor.\n",
    "\n",
    "Variables de entrada:\n",
    "1. fixed acidity \n",
    "2. volatile acidity \n",
    "3. citric acid \n",
    "4. residual sugar \n",
    "5. chlorides \n",
    "6. free sulfur dioxide \n",
    "7. total sulfur dioxide \n",
    "8. density \n",
    "9. pH \n",
    "10. sulphates \n",
    "11. alcohol \n",
    "\n",
    "Varaible a predecir: \n",
    "12. quality (puntuacion  entre 0 y 10) \n",
    "\n"
   ]
  },
  {
   "cell_type": "code",
   "execution_count": 6,
   "metadata": {},
   "outputs": [
    {
     "data": {
      "text/html": [
       "<div>\n",
       "<style scoped>\n",
       "    .dataframe tbody tr th:only-of-type {\n",
       "        vertical-align: middle;\n",
       "    }\n",
       "\n",
       "    .dataframe tbody tr th {\n",
       "        vertical-align: top;\n",
       "    }\n",
       "\n",
       "    .dataframe thead th {\n",
       "        text-align: right;\n",
       "    }\n",
       "</style>\n",
       "<table border=\"1\" class=\"dataframe\">\n",
       "  <thead>\n",
       "    <tr style=\"text-align: right;\">\n",
       "      <th></th>\n",
       "      <th>fixed acidity</th>\n",
       "      <th>volatile acidity</th>\n",
       "      <th>citric acid</th>\n",
       "      <th>residual sugar</th>\n",
       "      <th>chlorides</th>\n",
       "      <th>free sulfur dioxide</th>\n",
       "      <th>total sulfur dioxide</th>\n",
       "      <th>density</th>\n",
       "      <th>pH</th>\n",
       "      <th>sulphates</th>\n",
       "      <th>alcohol</th>\n",
       "      <th>quality</th>\n",
       "    </tr>\n",
       "  </thead>\n",
       "  <tbody>\n",
       "    <tr>\n",
       "      <td>0</td>\n",
       "      <td>7.4</td>\n",
       "      <td>0.70</td>\n",
       "      <td>0.00</td>\n",
       "      <td>1.9</td>\n",
       "      <td>0.076</td>\n",
       "      <td>11.0</td>\n",
       "      <td>34.0</td>\n",
       "      <td>0.9978</td>\n",
       "      <td>3.51</td>\n",
       "      <td>0.56</td>\n",
       "      <td>9.4</td>\n",
       "      <td>5</td>\n",
       "    </tr>\n",
       "    <tr>\n",
       "      <td>1</td>\n",
       "      <td>7.8</td>\n",
       "      <td>0.88</td>\n",
       "      <td>0.00</td>\n",
       "      <td>2.6</td>\n",
       "      <td>0.098</td>\n",
       "      <td>25.0</td>\n",
       "      <td>67.0</td>\n",
       "      <td>0.9968</td>\n",
       "      <td>3.20</td>\n",
       "      <td>0.68</td>\n",
       "      <td>9.8</td>\n",
       "      <td>5</td>\n",
       "    </tr>\n",
       "    <tr>\n",
       "      <td>2</td>\n",
       "      <td>7.8</td>\n",
       "      <td>0.76</td>\n",
       "      <td>0.04</td>\n",
       "      <td>2.3</td>\n",
       "      <td>0.092</td>\n",
       "      <td>15.0</td>\n",
       "      <td>54.0</td>\n",
       "      <td>0.9970</td>\n",
       "      <td>3.26</td>\n",
       "      <td>0.65</td>\n",
       "      <td>9.8</td>\n",
       "      <td>5</td>\n",
       "    </tr>\n",
       "    <tr>\n",
       "      <td>3</td>\n",
       "      <td>11.2</td>\n",
       "      <td>0.28</td>\n",
       "      <td>0.56</td>\n",
       "      <td>1.9</td>\n",
       "      <td>0.075</td>\n",
       "      <td>17.0</td>\n",
       "      <td>60.0</td>\n",
       "      <td>0.9980</td>\n",
       "      <td>3.16</td>\n",
       "      <td>0.58</td>\n",
       "      <td>9.8</td>\n",
       "      <td>6</td>\n",
       "    </tr>\n",
       "    <tr>\n",
       "      <td>4</td>\n",
       "      <td>7.4</td>\n",
       "      <td>0.70</td>\n",
       "      <td>0.00</td>\n",
       "      <td>1.9</td>\n",
       "      <td>0.076</td>\n",
       "      <td>11.0</td>\n",
       "      <td>34.0</td>\n",
       "      <td>0.9978</td>\n",
       "      <td>3.51</td>\n",
       "      <td>0.56</td>\n",
       "      <td>9.4</td>\n",
       "      <td>5</td>\n",
       "    </tr>\n",
       "  </tbody>\n",
       "</table>\n",
       "</div>"
      ],
      "text/plain": [
       "   fixed acidity  volatile acidity  citric acid  residual sugar  chlorides  \\\n",
       "0            7.4              0.70         0.00             1.9      0.076   \n",
       "1            7.8              0.88         0.00             2.6      0.098   \n",
       "2            7.8              0.76         0.04             2.3      0.092   \n",
       "3           11.2              0.28         0.56             1.9      0.075   \n",
       "4            7.4              0.70         0.00             1.9      0.076   \n",
       "\n",
       "   free sulfur dioxide  total sulfur dioxide  density    pH  sulphates  \\\n",
       "0                 11.0                  34.0   0.9978  3.51       0.56   \n",
       "1                 25.0                  67.0   0.9968  3.20       0.68   \n",
       "2                 15.0                  54.0   0.9970  3.26       0.65   \n",
       "3                 17.0                  60.0   0.9980  3.16       0.58   \n",
       "4                 11.0                  34.0   0.9978  3.51       0.56   \n",
       "\n",
       "   alcohol  quality  \n",
       "0      9.4        5  \n",
       "1      9.8        5  \n",
       "2      9.8        5  \n",
       "3      9.8        6  \n",
       "4      9.4        5  "
      ]
     },
     "execution_count": 6,
     "metadata": {},
     "output_type": "execute_result"
    }
   ],
   "source": [
    "data.head()\n"
   ]
  },
  {
   "cell_type": "code",
   "execution_count": 30,
   "metadata": {},
   "outputs": [
    {
     "data": {
      "text/plain": [
       "<matplotlib.axes._subplots.AxesSubplot at 0x1b78d252808>"
      ]
     },
     "execution_count": 30,
     "metadata": {},
     "output_type": "execute_result"
    },
    {
     "data": {
      "image/png": "[encoded data removed]",
      "text/plain": [
       "<Figure size 432x288 with 2 Axes>"
      ]
     },
     "metadata": {
      "needs_background": "light"
     },
     "output_type": "display_data"
    }
   ],
   "source": [
    "Mat_corr = data.corr()\n",
    "sns.heatmap(Mat_corr,cmap=\"YlGnBu\")"
   ]
  },
  {
   "cell_type": "code",
   "execution_count": 31,
   "metadata": {
    "jupyter": {
     "outputs_hidden": true
    }
   },
   "outputs": [
    {
     "name": "stdout",
     "output_type": "stream",
     "text": [
      "[[5.]\n",
      " [5.]\n",
      " [6.]\n",
      " [6.]\n",
      " [5.]\n",
      " [5.]\n",
      " [6.]\n",
      " [5.]\n",
      " [6.]\n",
      " [6.]\n",
      " [5.]\n",
      " [6.]\n",
      " [5.]\n",
      " [5.]\n",
      " [6.]\n",
      " [5.]\n",
      " [5.]\n",
      " [5.]\n",
      " [5.]\n",
      " [6.]\n",
      " [5.]\n",
      " [7.]\n",
      " [5.]\n",
      " [5.]\n",
      " [5.]\n",
      " [5.]\n",
      " [6.]\n",
      " [5.]\n",
      " [6.]\n",
      " [5.]\n",
      " [6.]\n",
      " [5.]\n",
      " [6.]\n",
      " [5.]\n",
      " [6.]\n",
      " [6.]\n",
      " [6.]\n",
      " [5.]\n",
      " [6.]\n",
      " [5.]\n",
      " [5.]\n",
      " [5.]\n",
      " [6.]\n",
      " [5.]\n",
      " [5.]\n",
      " [7.]\n",
      " [5.]\n",
      " [6.]\n",
      " [6.]\n",
      " [5.]\n",
      " [6.]\n",
      " [6.]\n",
      " [5.]\n",
      " [5.]\n",
      " [6.]\n",
      " [6.]\n",
      " [5.]\n",
      " [5.]\n",
      " [6.]\n",
      " [5.]\n",
      " [6.]\n",
      " [6.]\n",
      " [5.]\n",
      " [6.]\n",
      " [6.]\n",
      " [6.]\n",
      " [5.]\n",
      " [5.]\n",
      " [6.]\n",
      " [6.]\n",
      " [5.]\n",
      " [7.]\n",
      " [6.]\n",
      " [5.]\n",
      " [6.]\n",
      " [6.]\n",
      " [5.]\n",
      " [5.]\n",
      " [5.]\n",
      " [5.]\n",
      " [5.]\n",
      " [6.]\n",
      " [6.]\n",
      " [5.]\n",
      " [6.]\n",
      " [5.]\n",
      " [5.]\n",
      " [5.]\n",
      " [6.]\n",
      " [6.]\n",
      " [5.]\n",
      " [5.]\n",
      " [6.]\n",
      " [6.]\n",
      " [5.]\n",
      " [5.]\n",
      " [5.]\n",
      " [5.]\n",
      " [5.]\n",
      " [6.]\n",
      " [5.]\n",
      " [5.]\n",
      " [6.]\n",
      " [6.]\n",
      " [5.]\n",
      " [6.]\n",
      " [6.]\n",
      " [5.]\n",
      " [5.]\n",
      " [6.]\n",
      " [5.]\n",
      " [5.]\n",
      " [6.]\n",
      " [6.]\n",
      " [5.]\n",
      " [5.]\n",
      " [6.]\n",
      " [6.]\n",
      " [7.]\n",
      " [6.]\n",
      " [6.]\n",
      " [7.]\n",
      " [6.]\n",
      " [5.]\n",
      " [6.]\n",
      " [5.]\n",
      " [6.]\n",
      " [6.]\n",
      " [6.]\n",
      " [6.]\n",
      " [6.]\n",
      " [7.]\n",
      " [6.]\n",
      " [6.]\n",
      " [6.]\n",
      " [6.]\n",
      " [6.]\n",
      " [6.]\n",
      " [5.]\n",
      " [7.]\n",
      " [6.]\n",
      " [7.]\n",
      " [7.]\n",
      " [6.]\n",
      " [6.]\n",
      " [5.]\n",
      " [6.]\n",
      " [5.]\n",
      " [5.]\n",
      " [6.]\n",
      " [6.]\n",
      " [6.]\n",
      " [5.]\n",
      " [6.]\n",
      " [5.]\n",
      " [6.]\n",
      " [5.]\n",
      " [5.]\n",
      " [5.]\n",
      " [5.]]\n"
     ]
    }
   ],
   "source": [
    "x = data[['quality']]\n",
    "y = data[['fixed acidity','volatile acidity','citric acid','residual sugar','chlorides','free sulfur dioxide','total sulfur dioxide','density','pH','sulphates','alcohol']]\n",
    "\n",
    "xtrain,xtest,ytrain,ytest = train_test_split(x, y, test_size=0.1)\n",
    "\n",
    "modelo = linear_model.LinearRegression()\n",
    "modelo = modelo.fit(ytrain, xtrain)\n",
    "pred_data = modelo.predict(ytest)\n",
    "pred_data = np.round_(pred_data)\n",
    "\n",
    "print(pred_data)"
   ]
  },
  {
   "cell_type": "code",
   "execution_count": 28,
   "metadata": {},
   "outputs": [
    {
     "name": "stdout",
     "output_type": "stream",
     "text": [
      "0.45625\n"
     ]
    }
   ],
   "source": [
    "print(mean_squared_error(xtest,pred_data))"
   ]
  },
  {
   "cell_type": "markdown",
   "metadata": {},
   "source": [
    "# Conclusión\n",
    "\n",
    "No es necesario que se utilicen todas las variables para realizar el análisis. Podrìa utilziar Fixed acidity y la cantidad de alcohol podrían ser 2 parámetros a considerar para tener una mejor predicción en lugar de todas juntas. "
   ]
  },
  {
   "cell_type": "code",
   "execution_count": null,
   "metadata": {},
   "outputs": [],
   "source": []
  }
 ],
 "metadata": {
  "kernelspec": {
   "display_name": "Python 3",
   "language": "python",
   "name": "python3"
  },
  "language_info": {
   "codemirror_mode": {
    "name": "ipython",
    "version": 3
   },
   "file_extension": ".py",
   "mimetype": "text/x-python",
   "name": "python",
   "nbconvert_exporter": "python",
   "pygments_lexer": "ipython3",
   "version": "3.7.4"
  }
 },
 "nbformat": 4,
 "nbformat_minor": 4
}
